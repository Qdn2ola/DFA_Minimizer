{
 "cells": [
  {
   "cell_type": "code",
   "execution_count": 33,
   "id": "99f62c9c",
   "metadata": {},
   "outputs": [],
   "source": [
    "def minimize_dfa(dfa):\n",
    "    # Step 1: Initial partition (final vs non-final states)\n",
    "    P = [set(dfa[\"final_states\"]), set(dfa[\"states\"]) - set(dfa[\"final_states\"])]\n",
    "\n",
    "    # Step 2: Iteration counter\n",
    "    k = 1\n",
    "\n",
    "    # Step 3: Refine partition until no change\n",
    "    while True:\n",
    "        Pk = []\n",
    "        for partition in P:\n",
    "            # No need to split sets with single state\n",
    "            if len(partition) == 1:\n",
    "                Pk.append(partition)\n",
    "                continue\n",
    "\n",
    "            # Check distinguishability for all state pairs\n",
    "            split = False\n",
    "            for q1 in partition:\n",
    "                for q2 in partition:\n",
    "                    if q1 != q2 and is_distinguishable(dfa, q1, q2):\n",
    "                        split = True\n",
    "                        break\n",
    "                if split:\n",
    "                    break\n",
    "\n",
    "            if split:\n",
    "                Pk.extend([{q} for q in partition])  # Split into singleton sets\n",
    "            else:\n",
    "                Pk.append(partition)  # Keep set unchanged\n",
    "\n",
    "        # Check for convergence\n",
    "        if Pk == P:\n",
    "            break\n",
    "\n",
    "        P = Pk\n",
    "        k += 1\n",
    "\n",
    "    # Step 4: Construct minimized DFA\n",
    "    minimized_dfa = {\n",
    "        \"states\": set.union(*P),\n",
    "        \"alphabet\": dfa[\"alphabet\"],\n",
    "        \"delta\": {},\n",
    "        \"start_state\": None,\n",
    "        \"final_states\": None\n",
    "    }\n",
    "\n",
    "    # Map old states to new state labels (based on order in P)\n",
    "    state_map = {q: i for i, partition in enumerate(P) for q in partition}\n",
    "\n",
    "    # Build transition function and identify start/final states\n",
    "    for q, transitions in dfa[\"delta\"].items():\n",
    "        for symbol, next_state in transitions.items():\n",
    "            minimized_dfa[\"delta\"][state_map[q], symbol] = state_map[next_state]\n",
    "        minimized_dfa[\"start_state\"] = state_map[dfa[\"start_state\"]]\n",
    "        minimized_dfa[\"final_states\"] = {state_map[q] for q in dfa[\"final_states\"]}\n",
    "\n",
    "    return minimized_dfa"
   ]
  },
  {
   "cell_type": "code",
   "execution_count": 35,
   "id": "e63d4ea8",
   "metadata": {},
   "outputs": [],
   "source": [
    "def is_distinguishable(dfa, q1, q2):\n",
    "    for symbol in dfa[\"alphabet\"]:\n",
    "        if dfa[\"delta\"][q1][symbol] != dfa[\"delta\"][q2][symbol]:\n",
    "            return True\n",
    "    return False"
   ]
  },
  {
   "cell_type": "code",
   "execution_count": 36,
   "id": "aefffab7",
   "metadata": {},
   "outputs": [
    {
     "name": "stdout",
     "output_type": "stream",
     "text": [
      "{'states': {'q2', 'q1', 'q0', 'q3'}, 'alphabet': {'1', '0'}, 'delta': {(2, '0'): 1, (2, '1'): 0, (1, '0'): 3, (1, '1'): 0, (0, '0'): 3, (0, '1'): 1, (3, '0'): 2, (3, '1'): 2}, 'start_state': 2, 'final_states': {0}}\n"
     ]
    }
   ],
   "source": [
    "# Example usage (replace with your DFA definition)\n",
    "dfa = {\n",
    "    \"states\": {\"q0\", \"q1\", \"q2\", \"q3\"},\n",
    "    \"alphabet\": {\"0\", \"1\"},\n",
    "    \"delta\": {\n",
    "        \"q0\": {\"0\": \"q1\", \"1\": \"q2\"},\n",
    "        \"q1\": {\"0\": \"q3\", \"1\": \"q2\"},\n",
    "        \"q2\": {\"0\": \"q3\", \"1\": \"q1\"},\n",
    "        \"q3\": {\"0\": \"q0\", \"1\": \"q0\"}\n",
    "    },\n",
    "    \"start_state\": \"q0\",\n",
    "    \"final_states\": {\"q2\"}\n",
    "}\n",
    "\n",
    "minimized_dfa = minimize_dfa(dfa)\n",
    "print(minimized_dfa)"
   ]
  }
 ],
 "metadata": {
  "kernelspec": {
   "display_name": "Python 3 (ipykernel)",
   "language": "python",
   "name": "python3"
  },
  "language_info": {
   "codemirror_mode": {
    "name": "ipython",
    "version": 3
   },
   "file_extension": ".py",
   "mimetype": "text/x-python",
   "name": "python",
   "nbconvert_exporter": "python",
   "pygments_lexer": "ipython3",
   "version": "3.9.7"
  }
 },
 "nbformat": 4,
 "nbformat_minor": 5
}
